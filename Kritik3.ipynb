{
 "cells": [
  {
   "metadata": {},
   "cell_type": "markdown",
   "source": [
    "# This is a sample Jupyter Notebook\n",
    "\n",
    "Below is an example of a code cell. \n",
    "Put your cursor into the cell and press Shift+Enter to execute it and select the next one, or click 'Run Cell' button.\n",
    "\n",
    "Press Double Shift to search everywhere for classes, files, tool windows, actions, and settings.\n",
    "\n",
    "To learn more about Jupyter Notebooks in PyCharm, see [help](https://www.jetbrains.com/help/pycharm/ipython-notebook-support.html).\n",
    "For an overview of PyCharm, go to Help -> Learn IDE features or refer to [our documentation](https://www.jetbrains.com/help/pycharm/getting-started.html)."
   ],
   "id": "8a77807f92f26ee"
  },
  {
   "metadata": {
    "ExecuteTime": {
     "end_time": "2024-11-12T02:14:57.712688Z",
     "start_time": "2024-11-12T02:14:56.713409Z"
    }
   },
   "cell_type": "code",
   "source": [
    "import numpy as np\n",
    "\n",
    "def f(x):          # Define functions\n",
    "    return x**2\n",
    "def g(x):\n",
    "    return np.sin(x)\n",
    "def h(x):\n",
    "    return np.exp(x)\n",
    "def differentiate(f, c, e):   #Define derivatives\n",
    "    d = 10**-8\n",
    "    m = (f(c + d) - f(c - d)) / (2 * d)  # approximate derivative at c\n",
    "    \n",
    "    # Find range around c where linear approximation error is within tolerance\n",
    "    x1, x2 = c, c\n",
    "    while abs(f(x1) - f(c) - (x1 - c) * m) < e:\n",
    "        x1 -= 10**-6\n",
    "    print(x1)\n",
    "    \n",
    "    while abs(f(x2) - f(c) - (x2 - c) * m) < e:\n",
    "        x2 += 10**-6\n",
    "    print(x2)\n",
    "\n",
    "# Test cases\n",
    "differentiate(f, 1, 0.1)\n",
    "differentiate(g, np.pi / 4, 0.05)\n",
    "differentiate(h, 0, 0.01)\n",
    "\n"
   ],
   "id": "fbc121e30a2defb3",
   "outputs": [
    {
     "name": "stdout",
     "output_type": "stream",
     "text": [
      "0.6837719999909067\n",
      "1.316227999973985\n",
      "0.3778661633925092\n",
      "1.1427021633918797\n",
      "-0.14483500000012417\n",
      "0.1381660000001175\n"
     ]
    }
   ],
   "execution_count": 2
  }
 ],
 "metadata": {
  "kernelspec": {
   "display_name": "Python 3",
   "language": "python",
   "name": "python3"
  },
  "language_info": {
   "codemirror_mode": {
    "name": "ipython",
    "version": 2
   },
   "file_extension": ".py",
   "mimetype": "text/x-python",
   "name": "python",
   "nbconvert_exporter": "python",
   "pygments_lexer": "ipython2",
   "version": "2.7.6"
  }
 },
 "nbformat": 4,
 "nbformat_minor": 5
}
