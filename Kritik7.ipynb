{
 "cells": [
  {
   "metadata": {},
   "cell_type": "markdown",
   "source": [
    "# This is a sample Jupyter Notebook\n",
    "\n",
    "Below is an example of a code cell. \n",
    "Put your cursor into the cell and press Shift+Enter to execute it and select the next one, or click 'Run Cell' button.\n",
    "\n",
    "Press Double Shift to search everywhere for classes, files, tool windows, actions, and settings.\n",
    "\n",
    "To learn more about Jupyter Notebooks in PyCharm, see [help](https://www.jetbrains.com/help/pycharm/ipython-notebook-support.html).\n",
    "For an overview of PyCharm, go to Help -> Learn IDE features or refer to [our documentation](https://www.jetbrains.com/help/pycharm/getting-started.html)."
   ],
   "id": "8a77807f92f26ee"
  },
  {
   "metadata": {
    "ExecuteTime": {
     "end_time": "2025-03-05T04:52:16.663004Z",
     "start_time": "2025-03-05T04:52:16.643730Z"
    }
   },
   "cell_type": "code",
   "source": [
    "import numpy as np\n",
    "from scipy.special import gamma\n",
    "def t_distribution_pdf(x, nu):\n",
    "    \n",
    "\n",
    "#Compute the probability density of the t-distribution\n",
    "#at a given point x with nu degrees of freedom.\n",
    "#Parameters:\n",
    "#x (float): The point at which to evaluate the density.\n",
    "#nu (int): The degrees of freedom of the t-distribution.\n",
    "#Returns:\n",
    "#density (float): The probability density at point x for\n",
    "#the t-distribution with nu degrees of freedom.\n",
    "\n",
    "    coeff = gamma((nu + 1) / 2) / (np.sqrt(nu * np.pi) * gamma(nu / 2))\n",
    "    density = coeff * (1 + x**2 / nu) ** (-0.5 * (nu + 1))\n",
    "    return density\n",
    "def find_t_star(prob, nu, x_start=0, x_end=20, num_points=10000):\n",
    "\n",
    "#Find the t-value t* for a given cumulative probability\n",
    "#and degrees of freedom.\n",
    "#Parameters:\n",
    "#prob (float): The cumulative probability (between 0 and 1).\n",
    "#nu (int): The degrees of freedom of the t-distribution.\n",
    "#x_start (float): The start point for numerical integration.\n",
    "#x_end (float): The end point for numerical integration.\n",
    "#20 will almost always be big enough.\n",
    "#num_points (int): The number of points to use in\n",
    "#the numerical integration.\n",
    "#Returns:\n",
    "#float: The t-value t* such that the area between [-t*, t*]\n",
    "#equals the given probability.\n",
    "\n",
    "    # Define the x values\n",
    "    x = np.linspace(x_start, x_end, num_points)\n",
    "# Apply the density function to the x values\n",
    "    y = t_distribution_pdf(x, nu)\n",
    "    # This next line is the integration (exercise: why does this work?)\n",
    "    cdf = np.cumsum(y) * (x[1] - x[0])\n",
    "    # Find the t-value where the cumulative probability reaches half of the\n",
    "    #required probability\n",
    "    target_half_prob = prob / 2\n",
    "    index = np.where(cdf >= target_half_prob)[0][0]\n",
    "    return x[index]\n",
    "def mean(list):\n",
    "    sum = 0\n",
    "    for i in range(0,len(list)):\n",
    "        sum = sum + list[i]\n",
    "    return sum/len(list)\n",
    "def std_dev(x):\n",
    "    std=0\n",
    "    n = len(x)\n",
    "    for i in range (0,len(x)-1):\n",
    "        std=std+(x[i]-mean(x))**2\n",
    "    std=std/(n-1)\n",
    "    std=std**0.5\n",
    "    return std\n",
    "def t0(x,nu):\n",
    "    return (mean(x)-nu)/(std_dev(x)/(len(x)**0.5))\n",
    "def ttest(x,nu,prob):\n",
    "    if abs(t0(x,nu))<find_t_star(prob,nu):\n",
    "        return True\n",
    "    else:\n",
    "        return False\n"
   ],
   "id": "fbc121e30a2defb3",
   "outputs": [
    {
     "ename": "ModuleNotFoundError",
     "evalue": "No module named 'scipy'",
     "output_type": "error",
     "traceback": [
      "\u001B[0;31m---------------------------------------------------------------------------\u001B[0m",
      "\u001B[0;31mModuleNotFoundError\u001B[0m                       Traceback (most recent call last)",
      "Cell \u001B[0;32mIn[7], line 2\u001B[0m\n\u001B[1;32m      1\u001B[0m \u001B[38;5;28;01mimport\u001B[39;00m \u001B[38;5;21;01mnumpy\u001B[39;00m \u001B[38;5;28;01mas\u001B[39;00m \u001B[38;5;21;01mnp\u001B[39;00m\n\u001B[0;32m----> 2\u001B[0m \u001B[38;5;28;01mfrom\u001B[39;00m \u001B[38;5;21;01mscipy\u001B[39;00m\u001B[38;5;21;01m.\u001B[39;00m\u001B[38;5;21;01mspecial\u001B[39;00m \u001B[38;5;28;01mimport\u001B[39;00m gamma\n\u001B[1;32m      3\u001B[0m \u001B[38;5;28;01mdef\u001B[39;00m \u001B[38;5;21mt_distribution_pdf\u001B[39m(x, nu):\n\u001B[1;32m      4\u001B[0m     \n\u001B[1;32m      5\u001B[0m \n\u001B[0;32m   (...)\u001B[0m\n\u001B[1;32m     12\u001B[0m \u001B[38;5;66;03m#density (float): The probability density at point x for\u001B[39;00m\n\u001B[1;32m     13\u001B[0m \u001B[38;5;66;03m#the t-distribution with nu degrees of freedom.\u001B[39;00m\n\u001B[1;32m     15\u001B[0m     coeff \u001B[38;5;241m=\u001B[39m gamma((nu \u001B[38;5;241m+\u001B[39m \u001B[38;5;241m1\u001B[39m) \u001B[38;5;241m/\u001B[39m \u001B[38;5;241m2\u001B[39m) \u001B[38;5;241m/\u001B[39m (np\u001B[38;5;241m.\u001B[39msqrt(nu \u001B[38;5;241m*\u001B[39m np\u001B[38;5;241m.\u001B[39mpi) \u001B[38;5;241m*\u001B[39m gamma(nu \u001B[38;5;241m/\u001B[39m \u001B[38;5;241m2\u001B[39m))\n",
      "\u001B[0;31mModuleNotFoundError\u001B[0m: No module named 'scipy'"
     ]
    }
   ],
   "execution_count": 7
  },
  {
   "metadata": {
    "ExecuteTime": {
     "end_time": "2025-03-05T04:51:45.325931Z",
     "start_time": "2025-03-05T04:51:45.298931Z"
    }
   },
   "cell_type": "code",
   "source": [
    "test_scores = [92.64,79.00,84.79,97.41,93.68,65.23,84.50,73.49,73.97,79.11]\n",
    "national_average = 75\n",
    "print(\"The mean of the new test scores is : \",mean(test_scores))\n",
    "print(\"The standard deviation of the test scores is : \",std_dev(test_scores))\n",
    "print(\"t* of the test scores with respect to the population average 75\",find_t_star(0.95,len(test_scores)-1))\n",
    "print(\"t0 of the test scores is : \" ,t0(test_scores,75))\n",
    "print(\"If This test comes back false, the new test scores are significantly different than average :: \",ttest(test_scores, 75, 0.95))\n",
    "#since the ttest comes back false, the new scores are significantly different, and since t0 is positive, the new teaching methods were beneficial"
   ],
   "id": "1544be3abc78983d",
   "outputs": [
    {
     "name": "stdout",
     "output_type": "stream",
     "text": [
      "The mean of the new test scores is :  82.382\n",
      "The standard deviation of the test scores is :  10.134950397291325\n"
     ]
    },
    {
     "ename": "NameError",
     "evalue": "name 'gamma' is not defined",
     "output_type": "error",
     "traceback": [
      "\u001B[0;31m---------------------------------------------------------------------------\u001B[0m",
      "\u001B[0;31mNameError\u001B[0m                                 Traceback (most recent call last)",
      "Cell \u001B[0;32mIn[6], line 5\u001B[0m\n\u001B[1;32m      3\u001B[0m \u001B[38;5;28mprint\u001B[39m(\u001B[38;5;124m\"\u001B[39m\u001B[38;5;124mThe mean of the new test scores is : \u001B[39m\u001B[38;5;124m\"\u001B[39m,mean(test_scores))\n\u001B[1;32m      4\u001B[0m \u001B[38;5;28mprint\u001B[39m(\u001B[38;5;124m\"\u001B[39m\u001B[38;5;124mThe standard deviation of the test scores is : \u001B[39m\u001B[38;5;124m\"\u001B[39m,std_dev(test_scores))\n\u001B[0;32m----> 5\u001B[0m \u001B[38;5;28mprint\u001B[39m(\u001B[38;5;124m\"\u001B[39m\u001B[38;5;124mt* of the test scores with respect to the population average 75\u001B[39m\u001B[38;5;124m\"\u001B[39m,find_t_star(\u001B[38;5;241m0.95\u001B[39m,\u001B[38;5;28mlen\u001B[39m(test_scores)\u001B[38;5;241m-\u001B[39m\u001B[38;5;241m1\u001B[39m))\n\u001B[1;32m      6\u001B[0m \u001B[38;5;28mprint\u001B[39m(\u001B[38;5;124m\"\u001B[39m\u001B[38;5;124mt0 of the test scores is : \u001B[39m\u001B[38;5;124m\"\u001B[39m ,t0(test_scores,\u001B[38;5;241m75\u001B[39m))\n\u001B[1;32m      7\u001B[0m \u001B[38;5;28mprint\u001B[39m(\u001B[38;5;124m\"\u001B[39m\u001B[38;5;124mIf This test comes back false, the new test scores are significantly different than average :: \u001B[39m\u001B[38;5;124m\"\u001B[39m,ttest(test_scores, \u001B[38;5;241m75\u001B[39m, \u001B[38;5;241m0.95\u001B[39m))\n",
      "Cell \u001B[0;32mIn[3], line 38\u001B[0m, in \u001B[0;36mfind_t_star\u001B[0;34m(prob, nu, x_start, x_end, num_points)\u001B[0m\n\u001B[1;32m     36\u001B[0m     x \u001B[38;5;241m=\u001B[39m np\u001B[38;5;241m.\u001B[39mlinspace(x_start, x_end, num_points)\n\u001B[1;32m     37\u001B[0m \u001B[38;5;66;03m# Apply the density function to the x values\u001B[39;00m\n\u001B[0;32m---> 38\u001B[0m     y \u001B[38;5;241m=\u001B[39m t_distribution_pdf(x, nu)\n\u001B[1;32m     39\u001B[0m     \u001B[38;5;66;03m# This next line is the integration (exercise: why does this work?)\u001B[39;00m\n\u001B[1;32m     40\u001B[0m     cdf \u001B[38;5;241m=\u001B[39m np\u001B[38;5;241m.\u001B[39mcumsum(y) \u001B[38;5;241m*\u001B[39m (x[\u001B[38;5;241m1\u001B[39m] \u001B[38;5;241m-\u001B[39m x[\u001B[38;5;241m0\u001B[39m])\n",
      "Cell \u001B[0;32mIn[3], line 16\u001B[0m, in \u001B[0;36mt_distribution_pdf\u001B[0;34m(x, nu)\u001B[0m\n\u001B[1;32m      5\u001B[0m \u001B[38;5;28;01mdef\u001B[39;00m \u001B[38;5;21mt_distribution_pdf\u001B[39m(x, nu):\n\u001B[1;32m      6\u001B[0m \n\u001B[1;32m      7\u001B[0m \u001B[38;5;66;03m#Compute the probability density of the t-distribution\u001B[39;00m\n\u001B[0;32m   (...)\u001B[0m\n\u001B[1;32m     13\u001B[0m \u001B[38;5;66;03m#density (float): The probability density at point x for\u001B[39;00m\n\u001B[1;32m     14\u001B[0m \u001B[38;5;66;03m#the t-distribution with nu degrees of freedom.\u001B[39;00m\n\u001B[0;32m---> 16\u001B[0m     coeff \u001B[38;5;241m=\u001B[39m gamma((nu \u001B[38;5;241m+\u001B[39m \u001B[38;5;241m1\u001B[39m) \u001B[38;5;241m/\u001B[39m \u001B[38;5;241m2\u001B[39m) \u001B[38;5;241m/\u001B[39m (np\u001B[38;5;241m.\u001B[39msqrt(nu \u001B[38;5;241m*\u001B[39m np\u001B[38;5;241m.\u001B[39mpi) \u001B[38;5;241m*\u001B[39m gamma(nu \u001B[38;5;241m/\u001B[39m \u001B[38;5;241m2\u001B[39m))\n\u001B[1;32m     17\u001B[0m     density \u001B[38;5;241m=\u001B[39m coeff \u001B[38;5;241m*\u001B[39m (\u001B[38;5;241m1\u001B[39m \u001B[38;5;241m+\u001B[39m x\u001B[38;5;241m*\u001B[39m\u001B[38;5;241m*\u001B[39m\u001B[38;5;241m2\u001B[39m \u001B[38;5;241m/\u001B[39m nu) \u001B[38;5;241m*\u001B[39m\u001B[38;5;241m*\u001B[39m (\u001B[38;5;241m-\u001B[39m\u001B[38;5;241m0.5\u001B[39m \u001B[38;5;241m*\u001B[39m (nu \u001B[38;5;241m+\u001B[39m \u001B[38;5;241m1\u001B[39m))\n\u001B[1;32m     18\u001B[0m     \u001B[38;5;28;01mreturn\u001B[39;00m density\n",
      "\u001B[0;31mNameError\u001B[0m: name 'gamma' is not defined"
     ]
    }
   ],
   "execution_count": 6
  }
 ],
 "metadata": {
  "kernelspec": {
   "display_name": "Python 3",
   "language": "python",
   "name": "python3"
  },
  "language_info": {
   "codemirror_mode": {
    "name": "ipython",
    "version": 2
   },
   "file_extension": ".py",
   "mimetype": "text/x-python",
   "name": "python",
   "nbconvert_exporter": "python",
   "pygments_lexer": "ipython2",
   "version": "2.7.6"
  }
 },
 "nbformat": 4,
 "nbformat_minor": 5
}
